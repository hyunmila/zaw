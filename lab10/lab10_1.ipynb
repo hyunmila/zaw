{
 "cells": [
  {
   "cell_type": "code",
   "execution_count": 1,
   "metadata": {},
   "outputs": [],
   "source": [
    "import cv2\n",
    "import numpy as np\n",
    "import matplotlib.pyplot as plt\n"
   ]
  },
  {
   "cell_type": "code",
   "execution_count": 2,
   "metadata": {},
   "outputs": [
    {
     "name": "stderr",
     "output_type": "stream",
     "text": [
      "QSettings::value: Empty key passed\n",
      "QSettings::value: Empty key passed\n"
     ]
    }
   ],
   "source": [
    "cap = cv2.VideoCapture('vid1_IR.wm')\n",
    "\n",
    "while(cap.isOpened()):\n",
    "    ret, frame = cap.read()\n",
    "    G = cv2.cvtColor(frame, cv2.COLOR_BGR2GRAY)\n",
    "    B, thresh = cv2.threshold(G, 50, 255, cv2.THRESH_BINARY)\n",
    "\n",
    "    B0 = cv2.medianBlur(thresh, 7)\n",
    "    kernel = np.ones((3,3), np.uint8)\n",
    "    B1 = cv2.erode(B0, kernel, iterations=1)\n",
    "    # cv2.imshow(\"Binary1\", B1)\n",
    "    kernel = np.ones((4, 4), np.uint8)\n",
    "    B2 = cv2.dilate(B1, kernel, iterations=2)\n",
    "    # cv2.imshow(\"Binary2\", B2)\n",
    "    kernel = np.ones((2, 2), np.uint8)\n",
    "    B3 = cv2.erode(B2, kernel, iterations=1)\n",
    "    kernel = np.ones((3,3), np.uint8)\n",
    "    B4 = cv2.morphologyEx(B3, cv2.MORPH_CLOSE, kernel, iterations=1)\n",
    "\n",
    "\n",
    "    retval, labels, stats, centroids = cv2.connectedComponentsWithStats(B4)\n",
    "    # stats -- left, right, width, heigth, P\n",
    "\n",
    "    # cv2.imshow(\"Labels\", np.uint8(labels / stats.shape[0] * 255))\n",
    "\n",
    "    if (stats.shape[0] > 1):  # znalezienie obiektów\n",
    "        for x in range(0, stats.shape[0]):\n",
    "            if (stats[x, 3] > 0.5*stats[x, 2]) and (stats[x, 4] > 500): # rozpatrywanie najwiekszych mozliwych obiektow\n",
    "                \n",
    "                left = stats[x, 0]\n",
    "                right = stats[x, 0] + stats[x, 2]\n",
    "                top = stats[x, 1]\n",
    "                bottom = stats[x, 1] + stats[x, 3]\n",
    "\n",
    "                for y in range(0, stats.shape[0]):\n",
    "\n",
    "                    left_y = stats[y, 0]\n",
    "                    right_y = stats[y, 0] + stats[y, 2]\n",
    "                    top_y = stats[y, 1]\n",
    "                    bottom_y = stats[y, 1] + stats[y, 3]\n",
    "\n",
    "                    if (stats[y, 3] > stats[y, 2]) and (stats[y, 4] > 10) and (\n",
    "                        left-5 <= (left_y + (1/2)*stats[y, 2]) <= right+5 and (\n",
    "                        top_y < top - 10)) or (left <= (left_y + (1/2)*stats[y, 2]) <= right and (bottom_y > bottom + 10)):\n",
    "                        # dolaczenie pozostalych bloczkow\n",
    "                            \n",
    "                        left = min(left, left_y)\n",
    "                        top = min(top, top_y)\n",
    "                        right = max(right, right_y)\n",
    "                        bottom = max(bottom, bottom_y)\n",
    "                        # P = (bottom - top) * (right - left)\n",
    "                \n",
    "                cv2.rectangle(G, (left, top), (right, bottom), (255, 0, 0), 2)\n",
    "\n",
    "    cv2.imshow(\"G\", G)\n",
    "    # cv2.waitKey(10)\n",
    "    if cv2.waitKey(1) & 0xFF == ord('q'): # przerwanie petli po wcisnieciu klawisza ’q’\n",
    "        break\n",
    "\n",
    "cap.release()\n",
    "cv2.destroyAllWindows()"
   ]
  }
 ],
 "metadata": {
  "kernelspec": {
   "display_name": "Python 3",
   "language": "python",
   "name": "python3"
  },
  "language_info": {
   "codemirror_mode": {
    "name": "ipython",
    "version": 3
   },
   "file_extension": ".py",
   "mimetype": "text/x-python",
   "name": "python",
   "nbconvert_exporter": "python",
   "pygments_lexer": "ipython3",
   "version": "3.11.4"
  }
 },
 "nbformat": 4,
 "nbformat_minor": 2
}
